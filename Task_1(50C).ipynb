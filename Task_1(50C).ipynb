{
  "nbformat": 4,
  "nbformat_minor": 0,
  "metadata": {
    "colab": {
      "name": "Task 1(50C).ipynb",
      "provenance": [],
      "collapsed_sections": []
    },
    "kernelspec": {
      "name": "python3",
      "display_name": "Python 3"
    },
    "language_info": {
      "name": "python"
    }
  },
  "cells": [
    {
      "cell_type": "markdown",
      "metadata": {
        "id": "9WWyfBZHlQ9w"
      },
      "source": [
        "**The Intern Academy**\n",
        "\n",
        "**50°C Summer Internship Program**\n",
        "\n",
        "**AUTHOR : HERMAN TERRY I**"
      ]
    },
    {
      "cell_type": "markdown",
      "metadata": {
        "id": "Vqm1B9UbmGgO"
      },
      "source": [
        "**Parkinson's diseases detection**\n",
        "\n",
        "**Task details:**\n",
        "\n",
        "This dataset is composed of a range of biomedical voice measurements from\n",
        "31 people, 23 with Parkinson's disease (PD). Each column in the table is a\n",
        "particular voice measure, and each row corresponds to one of 195 voice\n",
        "recordings from these individuals (\"name\" column). The main aim of the data\n",
        "is to discriminate healthy people from those with PD, according to the \"status\"\n",
        "column which is set to 0 for healthy and 1 for PD."
      ]
    },
    {
      "cell_type": "markdown",
      "metadata": {
        "id": "DQgPoytumXTV"
      },
      "source": [
        "**IMPORTING DATASET**"
      ]
    },
    {
      "cell_type": "code",
      "metadata": {
        "id": "6sKJkN7lcL2F"
      },
      "source": [
        "import numpy as np\n",
        "import matplotlib.pyplot as plt\n",
        "import pandas as pd"
      ],
      "execution_count": null,
      "outputs": []
    },
    {
      "cell_type": "code",
      "metadata": {
        "colab": {
          "base_uri": "https://localhost:8080/"
        },
        "id": "bk3coXjOcSAL",
        "outputId": "3082493d-7683-4cb2-d39c-2f42079ccde0"
      },
      "source": [
        "dataset = pd.read_csv('/content/parkinsons.data.csv')\n",
        "dataset.info()"
      ],
      "execution_count": 27,
      "outputs": [
        {
          "output_type": "stream",
          "text": [
            "<class 'pandas.core.frame.DataFrame'>\n",
            "RangeIndex: 195 entries, 0 to 194\n",
            "Data columns (total 24 columns):\n",
            " #   Column            Non-Null Count  Dtype  \n",
            "---  ------            --------------  -----  \n",
            " 0   name              195 non-null    object \n",
            " 1   MDVP:Fo(Hz)       195 non-null    float64\n",
            " 2   MDVP:Fhi(Hz)      195 non-null    float64\n",
            " 3   MDVP:Flo(Hz)      195 non-null    float64\n",
            " 4   MDVP:Jitter(%)    195 non-null    float64\n",
            " 5   MDVP:Jitter(Abs)  195 non-null    float64\n",
            " 6   MDVP:RAP          195 non-null    float64\n",
            " 7   MDVP:PPQ          195 non-null    float64\n",
            " 8   Jitter:DDP        195 non-null    float64\n",
            " 9   MDVP:Shimmer      195 non-null    float64\n",
            " 10  MDVP:Shimmer(dB)  195 non-null    float64\n",
            " 11  Shimmer:APQ3      195 non-null    float64\n",
            " 12  Shimmer:APQ5      195 non-null    float64\n",
            " 13  MDVP:APQ          195 non-null    float64\n",
            " 14  Shimmer:DDA       195 non-null    float64\n",
            " 15  NHR               195 non-null    float64\n",
            " 16  HNR               195 non-null    float64\n",
            " 17  RPDE              195 non-null    float64\n",
            " 18  DFA               195 non-null    float64\n",
            " 19  spread1           195 non-null    float64\n",
            " 20  spread2           195 non-null    float64\n",
            " 21  D2                195 non-null    float64\n",
            " 22  PPE               195 non-null    float64\n",
            " 23  status            195 non-null    int64  \n",
            "dtypes: float64(22), int64(1), object(1)\n",
            "memory usage: 36.7+ KB\n"
          ],
          "name": "stdout"
        }
      ]
    },
    {
      "cell_type": "code",
      "metadata": {
        "id": "zmOdnDkefGwS"
      },
      "source": [
        "name=dataset['name']"
      ],
      "execution_count": 28,
      "outputs": []
    },
    {
      "cell_type": "code",
      "metadata": {
        "id": "BnS7_-4cduTi"
      },
      "source": [
        "dataset.drop(['name'], axis=1, inplace=True)"
      ],
      "execution_count": 29,
      "outputs": []
    },
    {
      "cell_type": "code",
      "metadata": {
        "colab": {
          "base_uri": "https://localhost:8080/"
        },
        "id": "jXplQlKFd6Rh",
        "outputId": "c1bb8167-bea3-43ca-b372-f1533312d6b8"
      },
      "source": [
        "dataset.info()"
      ],
      "execution_count": 30,
      "outputs": [
        {
          "output_type": "stream",
          "text": [
            "<class 'pandas.core.frame.DataFrame'>\n",
            "RangeIndex: 195 entries, 0 to 194\n",
            "Data columns (total 23 columns):\n",
            " #   Column            Non-Null Count  Dtype  \n",
            "---  ------            --------------  -----  \n",
            " 0   MDVP:Fo(Hz)       195 non-null    float64\n",
            " 1   MDVP:Fhi(Hz)      195 non-null    float64\n",
            " 2   MDVP:Flo(Hz)      195 non-null    float64\n",
            " 3   MDVP:Jitter(%)    195 non-null    float64\n",
            " 4   MDVP:Jitter(Abs)  195 non-null    float64\n",
            " 5   MDVP:RAP          195 non-null    float64\n",
            " 6   MDVP:PPQ          195 non-null    float64\n",
            " 7   Jitter:DDP        195 non-null    float64\n",
            " 8   MDVP:Shimmer      195 non-null    float64\n",
            " 9   MDVP:Shimmer(dB)  195 non-null    float64\n",
            " 10  Shimmer:APQ3      195 non-null    float64\n",
            " 11  Shimmer:APQ5      195 non-null    float64\n",
            " 12  MDVP:APQ          195 non-null    float64\n",
            " 13  Shimmer:DDA       195 non-null    float64\n",
            " 14  NHR               195 non-null    float64\n",
            " 15  HNR               195 non-null    float64\n",
            " 16  RPDE              195 non-null    float64\n",
            " 17  DFA               195 non-null    float64\n",
            " 18  spread1           195 non-null    float64\n",
            " 19  spread2           195 non-null    float64\n",
            " 20  D2                195 non-null    float64\n",
            " 21  PPE               195 non-null    float64\n",
            " 22  status            195 non-null    int64  \n",
            "dtypes: float64(22), int64(1)\n",
            "memory usage: 35.2 KB\n"
          ],
          "name": "stdout"
        }
      ]
    },
    {
      "cell_type": "markdown",
      "metadata": {
        "id": "oqal8piPmibV"
      },
      "source": [
        "**TRAINING DATASET**"
      ]
    },
    {
      "cell_type": "code",
      "metadata": {
        "colab": {
          "base_uri": "https://localhost:8080/"
        },
        "id": "zw_75uVAd8cy",
        "outputId": "7918ded9-073e-4334-eac8-4fa53042a95d"
      },
      "source": [
        "X = dataset.iloc[:, :-1].values\n",
        "y = dataset.iloc[:, -1].values\n",
        "from sklearn.model_selection import train_test_split\n",
        "X_train, X_test, y_train, y_test = train_test_split(X, y, test_size = 0.25, random_state = 0)\n",
        "print(X_train)"
      ],
      "execution_count": 44,
      "outputs": [
        {
          "output_type": "stream",
          "text": [
            "[[1.482720e+02 1.649890e+02 1.422990e+02 ... 8.784000e-02 2.344336e+00\n",
            "  1.864890e-01]\n",
            " [1.162860e+02 1.772910e+02 9.698300e+01 ... 1.339170e-01 2.058658e+00\n",
            "  2.143460e-01]\n",
            " [1.636560e+02 2.008410e+02 7.677900e+01 ... 2.208900e-01 2.692176e+00\n",
            "  2.159610e-01]\n",
            " ...\n",
            " [1.707560e+02 4.502470e+02 7.903200e+01 ... 3.721140e-01 2.975889e+00\n",
            "  2.827800e-01]\n",
            " [2.524550e+02 2.614870e+02 1.827860e+02 ... 2.008730e-01 2.028612e+00\n",
            "  8.639800e-02]\n",
            " [1.107390e+02 1.135970e+02 1.001390e+02 ... 1.923750e-01 1.889002e+00\n",
            "  1.741520e-01]]\n"
          ],
          "name": "stdout"
        }
      ]
    },
    {
      "cell_type": "code",
      "metadata": {
        "colab": {
          "base_uri": "https://localhost:8080/"
        },
        "id": "1KPnwYSthpJi",
        "outputId": "6f568dbe-08da-45a5-b38f-2dcf401aec94"
      },
      "source": [
        "y_test"
      ],
      "execution_count": 42,
      "outputs": [
        {
          "output_type": "execute_result",
          "data": {
            "text/plain": [
              "array([1, 1, 0, 1, 0, 1, 1, 1, 1, 1, 1, 1, 1, 1, 0, 1, 1, 0, 0, 1, 1, 0,\n",
              "       1, 1, 0, 1, 1, 0, 0, 0, 1, 1, 1, 1, 1, 1, 1, 1, 1, 1, 1, 1, 1, 1,\n",
              "       0, 1, 1, 1, 1])"
            ]
          },
          "metadata": {
            "tags": []
          },
          "execution_count": 42
        }
      ]
    },
    {
      "cell_type": "markdown",
      "metadata": {
        "id": "zCNzpX91mmtu"
      },
      "source": [
        "**DATA PREPROCESSING**"
      ]
    },
    {
      "cell_type": "code",
      "metadata": {
        "id": "mpv8kaaLce85"
      },
      "source": [
        "from sklearn.preprocessing import StandardScaler\t\n",
        "sc = StandardScaler()\n",
        "X_train = sc.fit_transform(X_train)\n",
        "X_test = sc.transform(X_test)"
      ],
      "execution_count": 32,
      "outputs": []
    },
    {
      "cell_type": "markdown",
      "metadata": {
        "id": "fYIT_OnFmtG2"
      },
      "source": [
        "**TRAINING MODEL**"
      ]
    },
    {
      "cell_type": "code",
      "metadata": {
        "colab": {
          "base_uri": "https://localhost:8080/"
        },
        "id": "TjN-gnGVeJFD",
        "outputId": "cdfe9ceb-0548-4ce6-e6aa-8b05559f6b3e"
      },
      "source": [
        "from sklearn.linear_model import LogisticRegression\n",
        "classifier = LogisticRegression(random_state = 0)\n",
        "cf=classifier.fit(X_train, y_train)\n"
      ],
      "execution_count": 50,
      "outputs": [
        {
          "output_type": "stream",
          "text": [
            "/usr/local/lib/python3.7/dist-packages/sklearn/linear_model/_logistic.py:940: ConvergenceWarning: lbfgs failed to converge (status=1):\n",
            "STOP: TOTAL NO. of ITERATIONS REACHED LIMIT.\n",
            "\n",
            "Increase the number of iterations (max_iter) or scale the data as shown in:\n",
            "    https://scikit-learn.org/stable/modules/preprocessing.html\n",
            "Please also refer to the documentation for alternative solver options:\n",
            "    https://scikit-learn.org/stable/modules/linear_model.html#logistic-regression\n",
            "  extra_warning_msg=_LOGISTIC_SOLVER_CONVERGENCE_MSG)\n"
          ],
          "name": "stderr"
        }
      ]
    },
    {
      "cell_type": "markdown",
      "metadata": {
        "id": "jeWzPoICm7Dl"
      },
      "source": [
        "**INFORMATION ON THE MODEL**"
      ]
    },
    {
      "cell_type": "code",
      "metadata": {
        "colab": {
          "base_uri": "https://localhost:8080/"
        },
        "id": "XTtXfOigm3Q9",
        "outputId": "b9567946-6cea-495e-aaa1-a7052b0c0a2a"
      },
      "source": [
        "cf.intercept_"
      ],
      "execution_count": 49,
      "outputs": [
        {
          "output_type": "execute_result",
          "data": {
            "text/plain": [
              "array([2.41941001])"
            ]
          },
          "metadata": {
            "tags": []
          },
          "execution_count": 49
        }
      ]
    },
    {
      "cell_type": "code",
      "metadata": {
        "colab": {
          "base_uri": "https://localhost:8080/"
        },
        "id": "VDDWX7WneMe8",
        "outputId": "2f4abee9-6e99-4b72-bdaf-e784d7e384bf"
      },
      "source": [
        "cf.coef_"
      ],
      "execution_count": 34,
      "outputs": [
        {
          "output_type": "execute_result",
          "data": {
            "text/plain": [
              "array([[-0.36467424, -0.18963561, -0.08087498, -0.55668145, -0.40446092,\n",
              "         0.35688054, -0.38936402,  0.35704717,  0.4011406 ,  0.32010808,\n",
              "        -0.10063413,  0.44862599,  0.81662531, -0.1008186 , -0.07182521,\n",
              "         0.45501002, -0.80293441,  0.13465027,  1.15935581,  0.65386924,\n",
              "         0.57687768,  0.98886227]])"
            ]
          },
          "metadata": {
            "tags": []
          },
          "execution_count": 34
        }
      ]
    },
    {
      "cell_type": "code",
      "metadata": {
        "colab": {
          "base_uri": "https://localhost:8080/"
        },
        "id": "hM_bx5gIeO7R",
        "outputId": "1c9c935c-4844-4c79-d220-5e510b51e4a6"
      },
      "source": [
        "cf.predict_proba(X)"
      ],
      "execution_count": 35,
      "outputs": [
        {
          "output_type": "execute_result",
          "data": {
            "text/plain": [
              "array([[1.00000000e+00, 8.84265750e-32],\n",
              "       [1.00000000e+00, 1.05884486e-32],\n",
              "       [1.00000000e+00, 3.20320845e-30],\n",
              "       [1.00000000e+00, 1.44825427e-30],\n",
              "       [1.00000000e+00, 8.90074528e-31],\n",
              "       [1.00000000e+00, 1.05268127e-30],\n",
              "       [1.00000000e+00, 1.74145447e-31],\n",
              "       [1.00000000e+00, 5.11919238e-27],\n",
              "       [1.00000000e+00, 9.39640496e-27],\n",
              "       [1.00000000e+00, 2.63700810e-25],\n",
              "       [1.00000000e+00, 1.21802714e-23],\n",
              "       [1.00000000e+00, 2.69061906e-24],\n",
              "       [1.00000000e+00, 7.64945975e-37],\n",
              "       [1.00000000e+00, 2.20798374e-36],\n",
              "       [1.00000000e+00, 1.40239327e-37],\n",
              "       [1.00000000e+00, 3.71489177e-40],\n",
              "       [1.00000000e+00, 6.66699206e-52],\n",
              "       [1.00000000e+00, 1.08840191e-44],\n",
              "       [1.00000000e+00, 2.02560810e-38],\n",
              "       [1.00000000e+00, 3.95120117e-43],\n",
              "       [1.00000000e+00, 8.38781075e-38],\n",
              "       [1.00000000e+00, 4.53368638e-39],\n",
              "       [1.00000000e+00, 7.09414314e-42],\n",
              "       [1.00000000e+00, 5.37305003e-44],\n",
              "       [1.00000000e+00, 3.71481333e-42],\n",
              "       [1.00000000e+00, 1.49824797e-33],\n",
              "       [1.00000000e+00, 7.39592320e-44],\n",
              "       [1.00000000e+00, 1.58948537e-40],\n",
              "       [1.00000000e+00, 1.11809345e-43],\n",
              "       [1.00000000e+00, 3.23302418e-42],\n",
              "       [1.00000000e+00, 1.21137683e-52],\n",
              "       [1.00000000e+00, 1.80745189e-52],\n",
              "       [1.00000000e+00, 1.04786563e-52],\n",
              "       [1.00000000e+00, 4.40690688e-53],\n",
              "       [1.00000000e+00, 2.77933214e-53],\n",
              "       [1.00000000e+00, 8.18013445e-53],\n",
              "       [1.00000000e+00, 1.95370201e-47],\n",
              "       [1.00000000e+00, 5.62141547e-46],\n",
              "       [1.00000000e+00, 2.68384921e-48],\n",
              "       [1.00000000e+00, 2.69165305e-49],\n",
              "       [1.00000000e+00, 4.61141197e-49],\n",
              "       [1.00000000e+00, 1.42165478e-48],\n",
              "       [1.00000000e+00, 4.44475695e-64],\n",
              "       [1.00000000e+00, 7.57495000e-65],\n",
              "       [1.00000000e+00, 4.83067475e-65],\n",
              "       [1.00000000e+00, 3.81508838e-65],\n",
              "       [1.00000000e+00, 1.88686128e-66],\n",
              "       [1.00000000e+00, 1.47935514e-65],\n",
              "       [1.00000000e+00, 7.90020182e-32],\n",
              "       [1.00000000e+00, 1.09309647e-31],\n",
              "       [1.00000000e+00, 1.49911567e-32],\n",
              "       [1.00000000e+00, 1.74740417e-32],\n",
              "       [1.00000000e+00, 9.33274938e-34],\n",
              "       [1.00000000e+00, 1.26893535e-33],\n",
              "       [1.00000000e+00, 3.38589315e-29],\n",
              "       [1.00000000e+00, 1.32995732e-28],\n",
              "       [1.00000000e+00, 5.64846863e-29],\n",
              "       [1.00000000e+00, 5.20873749e-30],\n",
              "       [1.00000000e+00, 4.69263980e-30],\n",
              "       [1.00000000e+00, 2.38227811e-41],\n",
              "       [1.00000000e+00, 4.59993315e-54],\n",
              "       [1.00000000e+00, 3.83708437e-56],\n",
              "       [1.00000000e+00, 5.86980015e-59],\n",
              "       [1.00000000e+00, 5.80581648e-61],\n",
              "       [1.00000000e+00, 1.38477230e-62],\n",
              "       [1.00000000e+00, 6.10957400e-58],\n",
              "       [1.00000000e+00, 1.39570263e-35],\n",
              "       [1.00000000e+00, 1.74373034e-35],\n",
              "       [1.00000000e+00, 2.06270497e-36],\n",
              "       [1.00000000e+00, 3.58313569e-37],\n",
              "       [1.00000000e+00, 3.36569223e-36],\n",
              "       [1.00000000e+00, 2.63444336e-36],\n",
              "       [1.00000000e+00, 2.62019419e-31],\n",
              "       [1.00000000e+00, 5.30819876e-67],\n",
              "       [1.00000000e+00, 1.55510302e-28],\n",
              "       [1.00000000e+00, 3.39363035e-28],\n",
              "       [1.00000000e+00, 3.11167209e-31],\n",
              "       [1.00000000e+00, 2.50879406e-28],\n",
              "       [1.00000000e+00, 4.65749371e-24],\n",
              "       [1.00000000e+00, 3.76544415e-26],\n",
              "       [1.00000000e+00, 1.63045621e-24],\n",
              "       [1.00000000e+00, 7.83607507e-25],\n",
              "       [1.00000000e+00, 6.72583268e-26],\n",
              "       [1.00000000e+00, 5.61452348e-25],\n",
              "       [1.00000000e+00, 2.84840866e-46],\n",
              "       [1.00000000e+00, 4.43402069e-49],\n",
              "       [1.00000000e+00, 7.16811224e-49],\n",
              "       [1.00000000e+00, 7.50724998e-50],\n",
              "       [1.00000000e+00, 2.27332258e-46],\n",
              "       [1.00000000e+00, 1.31753070e-50],\n",
              "       [1.00000000e+00, 1.02597237e-44],\n",
              "       [1.00000000e+00, 5.40765092e-41],\n",
              "       [1.00000000e+00, 2.21016199e-40],\n",
              "       [1.00000000e+00, 4.51692434e-38],\n",
              "       [1.00000000e+00, 1.72216489e-39],\n",
              "       [1.00000000e+00, 1.60098179e-41],\n",
              "       [1.00000000e+00, 6.48775498e-42],\n",
              "       [1.00000000e+00, 1.24682546e-33],\n",
              "       [1.00000000e+00, 2.12071449e-33],\n",
              "       [1.00000000e+00, 1.69211365e-33],\n",
              "       [1.00000000e+00, 1.89781747e-34],\n",
              "       [1.00000000e+00, 2.21425895e-33],\n",
              "       [1.00000000e+00, 5.34021095e-71],\n",
              "       [1.00000000e+00, 1.71303092e-36],\n",
              "       [1.00000000e+00, 3.48198643e-39],\n",
              "       [1.00000000e+00, 7.67232070e-39],\n",
              "       [1.00000000e+00, 7.56732898e-40],\n",
              "       [1.00000000e+00, 9.04203461e-39],\n",
              "       [1.00000000e+00, 3.12988774e-38],\n",
              "       [1.00000000e+00, 3.79751415e-48],\n",
              "       [1.00000000e+00, 2.25268225e-50],\n",
              "       [1.00000000e+00, 5.65037975e-56],\n",
              "       [1.00000000e+00, 1.53088455e-54],\n",
              "       [1.00000000e+00, 2.88948337e-56],\n",
              "       [1.00000000e+00, 1.71339520e-52],\n",
              "       [1.00000000e+00, 1.29145217e-63],\n",
              "       [1.00000000e+00, 7.93889602e-61],\n",
              "       [1.00000000e+00, 6.12110999e-63],\n",
              "       [1.00000000e+00, 5.70721538e-64],\n",
              "       [1.00000000e+00, 1.11774183e-53],\n",
              "       [1.00000000e+00, 3.35545229e-60],\n",
              "       [1.00000000e+00, 1.34653977e-44],\n",
              "       [1.00000000e+00, 9.31207918e-40],\n",
              "       [1.00000000e+00, 5.39903471e-46],\n",
              "       [1.00000000e+00, 5.07012046e-42],\n",
              "       [1.00000000e+00, 1.81522344e-40],\n",
              "       [1.00000000e+00, 2.12603915e-39],\n",
              "       [1.00000000e+00, 4.31967537e-44],\n",
              "       [1.00000000e+00, 1.85897222e-30],\n",
              "       [1.00000000e+00, 4.87345199e-30],\n",
              "       [1.00000000e+00, 1.73983638e-30],\n",
              "       [1.00000000e+00, 5.53216426e-30],\n",
              "       [1.00000000e+00, 2.62742868e-29],\n",
              "       [1.00000000e+00, 3.36415273e-30],\n",
              "       [1.00000000e+00, 1.04598331e-27],\n",
              "       [1.00000000e+00, 7.72896695e-30],\n",
              "       [1.00000000e+00, 3.83576141e-30],\n",
              "       [1.00000000e+00, 4.13130793e-30],\n",
              "       [1.00000000e+00, 3.05053533e-30],\n",
              "       [1.00000000e+00, 2.20912386e-31],\n",
              "       [1.00000000e+00, 1.65436301e-49],\n",
              "       [1.00000000e+00, 1.31992245e-55],\n",
              "       [1.00000000e+00, 7.94288658e-53],\n",
              "       [1.00000000e+00, 1.59611253e-52],\n",
              "       [1.00000000e+00, 1.02729186e-55],\n",
              "       [1.00000000e+00, 8.52313775e-58],\n",
              "       [1.00000000e+00, 1.03105554e-45],\n",
              "       [1.00000000e+00, 1.51185166e-50],\n",
              "       [1.00000000e+00, 2.23091881e-51],\n",
              "       [1.00000000e+00, 4.02874560e-83],\n",
              "       [1.00000000e+00, 9.34697128e-51],\n",
              "       [1.00000000e+00, 5.56778724e-53],\n",
              "       [1.00000000e+00, 8.03055184e-55],\n",
              "       [1.00000000e+00, 1.64695598e-31],\n",
              "       [1.00000000e+00, 1.96441258e-29],\n",
              "       [1.00000000e+00, 6.21240459e-29],\n",
              "       [1.00000000e+00, 1.32042278e-31],\n",
              "       [1.00000000e+00, 4.44216902e-30],\n",
              "       [1.00000000e+00, 2.62154868e-33],\n",
              "       [1.00000000e+00, 1.25464009e-33],\n",
              "       [1.00000000e+00, 1.10798693e-28],\n",
              "       [1.00000000e+00, 4.68267737e-31],\n",
              "       [1.00000000e+00, 7.35113415e-30],\n",
              "       [1.00000000e+00, 7.43716526e-30],\n",
              "       [1.00000000e+00, 1.02215671e-27],\n",
              "       [1.00000000e+00, 6.37704611e-59],\n",
              "       [1.00000000e+00, 1.45057128e-63],\n",
              "       [1.00000000e+00, 3.56895827e-70],\n",
              "       [1.00000000e+00, 2.35210370e-50],\n",
              "       [1.00000000e+00, 1.60806445e-64],\n",
              "       [1.00000000e+00, 3.24231080e-68],\n",
              "       [1.00000000e+00, 1.49177660e-29],\n",
              "       [1.00000000e+00, 2.32895213e-27],\n",
              "       [1.00000000e+00, 6.82084582e-28],\n",
              "       [1.00000000e+00, 4.51679386e-31],\n",
              "       [1.00000000e+00, 3.28110303e-29],\n",
              "       [1.00000000e+00, 7.17539897e-30],\n",
              "       [1.00000000e+00, 9.06332217e-42],\n",
              "       [1.00000000e+00, 6.67080807e-39],\n",
              "       [1.00000000e+00, 3.97456569e-38],\n",
              "       [1.00000000e+00, 5.58732723e-40],\n",
              "       [1.00000000e+00, 4.81400350e-39],\n",
              "       [1.00000000e+00, 6.07616145e-40],\n",
              "       [1.00000000e+00, 6.05244080e-30],\n",
              "       [1.00000000e+00, 2.61110839e-37],\n",
              "       [1.00000000e+00, 1.24597961e-33],\n",
              "       [1.00000000e+00, 6.43358193e-68],\n",
              "       [1.00000000e+00, 4.93333259e-67],\n",
              "       [1.00000000e+00, 1.01414702e-28],\n",
              "       [1.00000000e+00, 4.25723044e-55],\n",
              "       [1.00000000e+00, 2.55435758e-48],\n",
              "       [1.00000000e+00, 1.97676035e-55],\n",
              "       [1.00000000e+00, 6.86638753e-49],\n",
              "       [1.00000000e+00, 1.51096834e-65],\n",
              "       [1.00000000e+00, 8.24566345e-56]])"
            ]
          },
          "metadata": {
            "tags": []
          },
          "execution_count": 35
        }
      ]
    },
    {
      "cell_type": "code",
      "metadata": {
        "colab": {
          "base_uri": "https://localhost:8080/"
        },
        "id": "uOHk987BeSeh",
        "outputId": "25fd51a8-05b8-49c9-8524-68703e78893e"
      },
      "source": [
        "cf.score(X,y)"
      ],
      "execution_count": 36,
      "outputs": [
        {
          "output_type": "execute_result",
          "data": {
            "text/plain": [
              "0.24615384615384617"
            ]
          },
          "metadata": {
            "tags": []
          },
          "execution_count": 36
        }
      ]
    },
    {
      "cell_type": "code",
      "metadata": {
        "colab": {
          "base_uri": "https://localhost:8080/"
        },
        "id": "EzVtRA0eeVRR",
        "outputId": "4bc42952-cc1b-4cd5-f144-693e423b946b"
      },
      "source": [
        "y_pred = classifier.predict(X_test)\n",
        "print(np.concatenate((y_pred.reshape(len(y_pred),1), y_test.reshape(len(y_test),1)),1))"
      ],
      "execution_count": 37,
      "outputs": [
        {
          "output_type": "stream",
          "text": [
            "[[0 1]\n",
            " [0 1]\n",
            " [0 0]\n",
            " [1 1]\n",
            " [1 0]\n",
            " [1 1]\n",
            " [1 1]\n",
            " [0 1]\n",
            " [1 1]\n",
            " [1 1]\n",
            " [0 1]\n",
            " [1 1]\n",
            " [0 1]\n",
            " [1 1]\n",
            " [0 0]\n",
            " [1 1]\n",
            " [1 1]\n",
            " [0 0]\n",
            " [0 0]\n",
            " [1 1]\n",
            " [1 1]\n",
            " [1 0]\n",
            " [1 1]\n",
            " [1 1]\n",
            " [0 0]\n",
            " [1 1]\n",
            " [1 1]\n",
            " [0 0]\n",
            " [1 0]\n",
            " [0 0]\n",
            " [1 1]\n",
            " [1 1]\n",
            " [1 1]\n",
            " [1 1]\n",
            " [1 1]\n",
            " [1 1]\n",
            " [1 1]\n",
            " [1 1]\n",
            " [1 1]\n",
            " [1 1]\n",
            " [1 1]\n",
            " [1 1]\n",
            " [1 1]\n",
            " [1 1]\n",
            " [0 0]\n",
            " [1 1]\n",
            " [1 1]\n",
            " [1 1]\n",
            " [1 1]]\n"
          ],
          "name": "stdout"
        }
      ]
    },
    {
      "cell_type": "code",
      "metadata": {
        "colab": {
          "base_uri": "https://localhost:8080/"
        },
        "id": "hdgtcVfdea9R",
        "outputId": "b041aaab-1f99-4e56-b829-727e76118d39"
      },
      "source": [
        "from sklearn.metrics import confusion_matrix, accuracy_score\n",
        "cm = confusion_matrix(y_test, y_pred)\n",
        "print(cm)\n",
        "accuracy_score(y_test, y_pred)"
      ],
      "execution_count": 38,
      "outputs": [
        {
          "output_type": "stream",
          "text": [
            "[[ 8  3]\n",
            " [ 5 33]]\n"
          ],
          "name": "stdout"
        },
        {
          "output_type": "execute_result",
          "data": {
            "text/plain": [
              "0.8367346938775511"
            ]
          },
          "metadata": {
            "tags": []
          },
          "execution_count": 38
        }
      ]
    },
    {
      "cell_type": "markdown",
      "metadata": {
        "id": "23Lwhb1BnDz9"
      },
      "source": [
        "**PREDICTING A RANDOM VALUE**"
      ]
    },
    {
      "cell_type": "code",
      "metadata": {
        "colab": {
          "base_uri": "https://localhost:8080/"
        },
        "id": "S4PIhLBFgUNI",
        "outputId": "ed372749-2eac-4895-a452-65ad74386dbc"
      },
      "source": [
        "print(classifier.predict(sc.transform([[197.076, 206.896, 192.055, 0.00289, 0.00001, 0.00166, 0.00168, 0.00498,\t0.01098, 0.097, 0.00563, 0.0068, 0.00802, 0.01689, 0.00339, 26.775, 0.422229, 0.741367, -7.3483, 0.177551, 1.743867, 0.085569\n",
        "]])))"
      ],
      "execution_count": 41,
      "outputs": [
        {
          "output_type": "stream",
          "text": [
            "[0]\n"
          ],
          "name": "stdout"
        }
      ]
    },
    {
      "cell_type": "markdown",
      "metadata": {
        "id": "FWHy3EZKnKg1"
      },
      "source": [
        "THE RESULT IS SAME AS THE VALUE GIVEN IN THE DATASET"
      ]
    },
    {
      "cell_type": "code",
      "metadata": {
        "id": "X7hSt6vPentK",
        "colab": {
          "base_uri": "https://localhost:8080/",
          "height": 1000
        },
        "outputId": "ddd29101-4dd6-4f15-bdb5-83cbdd52c4e4"
      },
      "source": [
        "df = pd.DataFrame({ 'Actual': y_test, 'Predicted': y_pred})  \n",
        "df "
      ],
      "execution_count": 40,
      "outputs": [
        {
          "output_type": "execute_result",
          "data": {
            "text/html": [
              "<div>\n",
              "<style scoped>\n",
              "    .dataframe tbody tr th:only-of-type {\n",
              "        vertical-align: middle;\n",
              "    }\n",
              "\n",
              "    .dataframe tbody tr th {\n",
              "        vertical-align: top;\n",
              "    }\n",
              "\n",
              "    .dataframe thead th {\n",
              "        text-align: right;\n",
              "    }\n",
              "</style>\n",
              "<table border=\"1\" class=\"dataframe\">\n",
              "  <thead>\n",
              "    <tr style=\"text-align: right;\">\n",
              "      <th></th>\n",
              "      <th>Actual</th>\n",
              "      <th>Predicted</th>\n",
              "    </tr>\n",
              "  </thead>\n",
              "  <tbody>\n",
              "    <tr>\n",
              "      <th>0</th>\n",
              "      <td>1</td>\n",
              "      <td>0</td>\n",
              "    </tr>\n",
              "    <tr>\n",
              "      <th>1</th>\n",
              "      <td>1</td>\n",
              "      <td>0</td>\n",
              "    </tr>\n",
              "    <tr>\n",
              "      <th>2</th>\n",
              "      <td>0</td>\n",
              "      <td>0</td>\n",
              "    </tr>\n",
              "    <tr>\n",
              "      <th>3</th>\n",
              "      <td>1</td>\n",
              "      <td>1</td>\n",
              "    </tr>\n",
              "    <tr>\n",
              "      <th>4</th>\n",
              "      <td>0</td>\n",
              "      <td>1</td>\n",
              "    </tr>\n",
              "    <tr>\n",
              "      <th>5</th>\n",
              "      <td>1</td>\n",
              "      <td>1</td>\n",
              "    </tr>\n",
              "    <tr>\n",
              "      <th>6</th>\n",
              "      <td>1</td>\n",
              "      <td>1</td>\n",
              "    </tr>\n",
              "    <tr>\n",
              "      <th>7</th>\n",
              "      <td>1</td>\n",
              "      <td>0</td>\n",
              "    </tr>\n",
              "    <tr>\n",
              "      <th>8</th>\n",
              "      <td>1</td>\n",
              "      <td>1</td>\n",
              "    </tr>\n",
              "    <tr>\n",
              "      <th>9</th>\n",
              "      <td>1</td>\n",
              "      <td>1</td>\n",
              "    </tr>\n",
              "    <tr>\n",
              "      <th>10</th>\n",
              "      <td>1</td>\n",
              "      <td>0</td>\n",
              "    </tr>\n",
              "    <tr>\n",
              "      <th>11</th>\n",
              "      <td>1</td>\n",
              "      <td>1</td>\n",
              "    </tr>\n",
              "    <tr>\n",
              "      <th>12</th>\n",
              "      <td>1</td>\n",
              "      <td>0</td>\n",
              "    </tr>\n",
              "    <tr>\n",
              "      <th>13</th>\n",
              "      <td>1</td>\n",
              "      <td>1</td>\n",
              "    </tr>\n",
              "    <tr>\n",
              "      <th>14</th>\n",
              "      <td>0</td>\n",
              "      <td>0</td>\n",
              "    </tr>\n",
              "    <tr>\n",
              "      <th>15</th>\n",
              "      <td>1</td>\n",
              "      <td>1</td>\n",
              "    </tr>\n",
              "    <tr>\n",
              "      <th>16</th>\n",
              "      <td>1</td>\n",
              "      <td>1</td>\n",
              "    </tr>\n",
              "    <tr>\n",
              "      <th>17</th>\n",
              "      <td>0</td>\n",
              "      <td>0</td>\n",
              "    </tr>\n",
              "    <tr>\n",
              "      <th>18</th>\n",
              "      <td>0</td>\n",
              "      <td>0</td>\n",
              "    </tr>\n",
              "    <tr>\n",
              "      <th>19</th>\n",
              "      <td>1</td>\n",
              "      <td>1</td>\n",
              "    </tr>\n",
              "    <tr>\n",
              "      <th>20</th>\n",
              "      <td>1</td>\n",
              "      <td>1</td>\n",
              "    </tr>\n",
              "    <tr>\n",
              "      <th>21</th>\n",
              "      <td>0</td>\n",
              "      <td>1</td>\n",
              "    </tr>\n",
              "    <tr>\n",
              "      <th>22</th>\n",
              "      <td>1</td>\n",
              "      <td>1</td>\n",
              "    </tr>\n",
              "    <tr>\n",
              "      <th>23</th>\n",
              "      <td>1</td>\n",
              "      <td>1</td>\n",
              "    </tr>\n",
              "    <tr>\n",
              "      <th>24</th>\n",
              "      <td>0</td>\n",
              "      <td>0</td>\n",
              "    </tr>\n",
              "    <tr>\n",
              "      <th>25</th>\n",
              "      <td>1</td>\n",
              "      <td>1</td>\n",
              "    </tr>\n",
              "    <tr>\n",
              "      <th>26</th>\n",
              "      <td>1</td>\n",
              "      <td>1</td>\n",
              "    </tr>\n",
              "    <tr>\n",
              "      <th>27</th>\n",
              "      <td>0</td>\n",
              "      <td>0</td>\n",
              "    </tr>\n",
              "    <tr>\n",
              "      <th>28</th>\n",
              "      <td>0</td>\n",
              "      <td>1</td>\n",
              "    </tr>\n",
              "    <tr>\n",
              "      <th>29</th>\n",
              "      <td>0</td>\n",
              "      <td>0</td>\n",
              "    </tr>\n",
              "    <tr>\n",
              "      <th>30</th>\n",
              "      <td>1</td>\n",
              "      <td>1</td>\n",
              "    </tr>\n",
              "    <tr>\n",
              "      <th>31</th>\n",
              "      <td>1</td>\n",
              "      <td>1</td>\n",
              "    </tr>\n",
              "    <tr>\n",
              "      <th>32</th>\n",
              "      <td>1</td>\n",
              "      <td>1</td>\n",
              "    </tr>\n",
              "    <tr>\n",
              "      <th>33</th>\n",
              "      <td>1</td>\n",
              "      <td>1</td>\n",
              "    </tr>\n",
              "    <tr>\n",
              "      <th>34</th>\n",
              "      <td>1</td>\n",
              "      <td>1</td>\n",
              "    </tr>\n",
              "    <tr>\n",
              "      <th>35</th>\n",
              "      <td>1</td>\n",
              "      <td>1</td>\n",
              "    </tr>\n",
              "    <tr>\n",
              "      <th>36</th>\n",
              "      <td>1</td>\n",
              "      <td>1</td>\n",
              "    </tr>\n",
              "    <tr>\n",
              "      <th>37</th>\n",
              "      <td>1</td>\n",
              "      <td>1</td>\n",
              "    </tr>\n",
              "    <tr>\n",
              "      <th>38</th>\n",
              "      <td>1</td>\n",
              "      <td>1</td>\n",
              "    </tr>\n",
              "    <tr>\n",
              "      <th>39</th>\n",
              "      <td>1</td>\n",
              "      <td>1</td>\n",
              "    </tr>\n",
              "    <tr>\n",
              "      <th>40</th>\n",
              "      <td>1</td>\n",
              "      <td>1</td>\n",
              "    </tr>\n",
              "    <tr>\n",
              "      <th>41</th>\n",
              "      <td>1</td>\n",
              "      <td>1</td>\n",
              "    </tr>\n",
              "    <tr>\n",
              "      <th>42</th>\n",
              "      <td>1</td>\n",
              "      <td>1</td>\n",
              "    </tr>\n",
              "    <tr>\n",
              "      <th>43</th>\n",
              "      <td>1</td>\n",
              "      <td>1</td>\n",
              "    </tr>\n",
              "    <tr>\n",
              "      <th>44</th>\n",
              "      <td>0</td>\n",
              "      <td>0</td>\n",
              "    </tr>\n",
              "    <tr>\n",
              "      <th>45</th>\n",
              "      <td>1</td>\n",
              "      <td>1</td>\n",
              "    </tr>\n",
              "    <tr>\n",
              "      <th>46</th>\n",
              "      <td>1</td>\n",
              "      <td>1</td>\n",
              "    </tr>\n",
              "    <tr>\n",
              "      <th>47</th>\n",
              "      <td>1</td>\n",
              "      <td>1</td>\n",
              "    </tr>\n",
              "    <tr>\n",
              "      <th>48</th>\n",
              "      <td>1</td>\n",
              "      <td>1</td>\n",
              "    </tr>\n",
              "  </tbody>\n",
              "</table>\n",
              "</div>"
            ],
            "text/plain": [
              "    Actual  Predicted\n",
              "0        1          0\n",
              "1        1          0\n",
              "2        0          0\n",
              "3        1          1\n",
              "4        0          1\n",
              "5        1          1\n",
              "6        1          1\n",
              "7        1          0\n",
              "8        1          1\n",
              "9        1          1\n",
              "10       1          0\n",
              "11       1          1\n",
              "12       1          0\n",
              "13       1          1\n",
              "14       0          0\n",
              "15       1          1\n",
              "16       1          1\n",
              "17       0          0\n",
              "18       0          0\n",
              "19       1          1\n",
              "20       1          1\n",
              "21       0          1\n",
              "22       1          1\n",
              "23       1          1\n",
              "24       0          0\n",
              "25       1          1\n",
              "26       1          1\n",
              "27       0          0\n",
              "28       0          1\n",
              "29       0          0\n",
              "30       1          1\n",
              "31       1          1\n",
              "32       1          1\n",
              "33       1          1\n",
              "34       1          1\n",
              "35       1          1\n",
              "36       1          1\n",
              "37       1          1\n",
              "38       1          1\n",
              "39       1          1\n",
              "40       1          1\n",
              "41       1          1\n",
              "42       1          1\n",
              "43       1          1\n",
              "44       0          0\n",
              "45       1          1\n",
              "46       1          1\n",
              "47       1          1\n",
              "48       1          1"
            ]
          },
          "metadata": {
            "tags": []
          },
          "execution_count": 40
        }
      ]
    }
  ]
}